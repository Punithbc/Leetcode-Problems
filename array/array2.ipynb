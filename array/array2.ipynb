{
 "cells": [
  {
   "cell_type": "markdown",
   "id": "d00e239f",
   "metadata": {},
   "source": [
    "# Best time to buy and sell stock"
   ]
  },
  {
   "cell_type": "code",
   "execution_count": 2,
   "id": "0a16c9df",
   "metadata": {},
   "outputs": [],
   "source": [
    "class Solution:\n",
    "    def maxProfit(self, prices):\n",
    "        max_profit = 0\n",
    "        left = 0\n",
    "        right = 1\n",
    "        while right < len(prices):\n",
    "            current_profit = prices[right]-prices[left]\n",
    "            if prices[left]<prices[right]:\n",
    "                max_profit=max(current_profit,max_profit)\n",
    "                \n",
    "            else:\n",
    "                left = right\n",
    "            right+=1\n",
    "        return max_profit    "
   ]
  },
  {
   "cell_type": "markdown",
   "id": "52ec7b56",
   "metadata": {},
   "source": [
    "Input: prices = [7,1,5,3,6,4]\n",
    "Output: 5"
   ]
  },
  {
   "cell_type": "code",
   "execution_count": 6,
   "id": "e3b0c365",
   "metadata": {},
   "outputs": [
    {
     "data": {
      "text/plain": [
       "[0, 2, 4, 5, 6]"
      ]
     },
     "execution_count": 6,
     "metadata": {},
     "output_type": "execute_result"
    }
   ],
   "source": [
    "lst = [2,4,5,6,0]\n",
    "lst.sort()\n",
    "lst"
   ]
  },
  {
   "cell_type": "markdown",
   "id": "ad51a550",
   "metadata": {},
   "source": [
    "# Repeat and Missing Number Array\n",
    "\n"
   ]
  },
  {
   "cell_type": "code",
   "execution_count": 7,
   "id": "b7207ccf",
   "metadata": {},
   "outputs": [],
   "source": [
    "def repeatedNumber(A):\n",
    "    n = len(A)\n",
    "    targeted_sum = n*(n+1)//2\n",
    "    actual_sum = sum(A)\n",
    "    difference = actual_sum-targeted_sum\n",
    "    seen = [0]*(n+1)\n",
    "    ans = 0\n",
    "    for num in A:\n",
    "        if seen[num]:\n",
    "            ans = num\n",
    "            break\n",
    "        else:\n",
    "            seen[num]=1\n",
    "    print(seen)        \n",
    "    return [ans,ans-difference]        "
   ]
  },
  {
   "cell_type": "code",
   "execution_count": 10,
   "id": "642773ed",
   "metadata": {},
   "outputs": [
    {
     "name": "stdout",
     "output_type": "stream",
     "text": [
      "[0, 1, 1, 0, 1]\n"
     ]
    },
    {
     "data": {
      "text/plain": [
       "[4, 3]"
      ]
     },
     "execution_count": 10,
     "metadata": {},
     "output_type": "execute_result"
    }
   ],
   "source": [
    "repeatedNumber([1,2,4,4])"
   ]
  },
  {
   "cell_type": "markdown",
   "id": "0757ed1b",
   "metadata": {},
   "source": [
    "# Kth Largest Element in an Array"
   ]
  },
  {
   "cell_type": "code",
   "execution_count": 36,
   "id": "375a7cd4",
   "metadata": {},
   "outputs": [],
   "source": [
    "class Solution:\n",
    "    def findKthLargest(self, nums):\n",
    "        sample = set(nums)\n",
    "        temp = list(sample)\n",
    "        temp.sort(reverse=True)\n",
    "        return temp[k-1]"
   ]
  },
  {
   "cell_type": "markdown",
   "id": "9d40cd76",
   "metadata": {},
   "source": [
    "# or"
   ]
  },
  {
   "cell_type": "code",
   "execution_count": 36,
   "id": "e07fb1a0",
   "metadata": {},
   "outputs": [],
   "source": [
    "def swap(a,b,arr):\n",
    "    if a!=b:\n",
    "        arr[a],arr[b]=arr[b],arr[a]\n",
    "        \n",
    "def partition(arr,start,end):\n",
    "    pivot = arr[end]\n",
    "    p_index = start\n",
    "    for i in range(start,end):\n",
    "        if arr[i] <= pivot:\n",
    "            swap(i,p_index,arr)\n",
    "            p_index+=1\n",
    "    swap(p_index,end,arr)\n",
    "    return p_index\n",
    "\n",
    "def findKLargest(arr,start,end,k):\n",
    "    if start<=end:\n",
    "        pi = partition(arr,start,end)\n",
    "        print(arr)\n",
    "        if pi == k:\n",
    "            return arr[pi]\n",
    "        elif pi > k:\n",
    "            return findKSmallest(arr,start,pi-1,k)\n",
    "        else:\n",
    "            return findKSmallest(arr,pi+1,end,k)\n",
    "        \n",
    "    \n",
    "    "
   ]
  },
  {
   "cell_type": "code",
   "execution_count": 37,
   "id": "cb455a90",
   "metadata": {},
   "outputs": [],
   "source": [
    "arr = [7, 10, 4 ,3, 20 ,15]"
   ]
  },
  {
   "cell_type": "code",
   "execution_count": 38,
   "id": "609b679d",
   "metadata": {},
   "outputs": [
    {
     "name": "stdout",
     "output_type": "stream",
     "text": [
      "[7, 10, 4, 3, 15, 20]\n",
      "[7, 10, 4, 3, 15, 20]\n"
     ]
    },
    {
     "data": {
      "text/plain": [
       "20"
      ]
     },
     "execution_count": 38,
     "metadata": {},
     "output_type": "execute_result"
    }
   ],
   "source": [
    "find = 1\n",
    "k=len(arr)-find\n",
    "findKLargest(arr,0,len(arr)-1,k)"
   ]
  },
  {
   "cell_type": "code",
   "execution_count": 58,
   "id": "c692f9b1",
   "metadata": {},
   "outputs": [],
   "source": [
    "def findKthLargest(nums, k):\n",
    "        print(k)\n",
    "        if len(nums)==1:\n",
    "            return nums\n",
    "        pivot = nums[len(nums)-1]\n",
    "        left_array = [nums[i] for i in range(len(nums)) if nums[i] < pivot]\n",
    "        mid_array = [pivot]\n",
    "        right_array = [nums[i] for i in range(len(nums)) if nums[i] > pivot]\n",
    "        if k <= len(left_array):\n",
    "            return findKthLargest(left_array, k)\n",
    "        elif k > (len(left_array)+len(right_array)):\n",
    "            return findKthLargest(right_array, k-len(left_array)-len(mid_array))\n",
    "        else:\n",
    "            return mid_array"
   ]
  },
  {
   "cell_type": "code",
   "execution_count": 61,
   "id": "9bec0ff6",
   "metadata": {},
   "outputs": [
    {
     "name": "stdout",
     "output_type": "stream",
     "text": [
      "6\n"
     ]
    },
    {
     "data": {
      "text/plain": [
       "[15]"
      ]
     },
     "execution_count": 61,
     "metadata": {},
     "output_type": "execute_result"
    }
   ],
   "source": [
    "findKthLargest([7, 10, 4 ,3,1, 20 ,15],6)"
   ]
  },
  {
   "cell_type": "markdown",
   "id": "2c5c3ef8",
   "metadata": {},
   "source": [
    "# Trapping Rain Water"
   ]
  },
  {
   "cell_type": "code",
   "execution_count": 73,
   "id": "d111725d",
   "metadata": {},
   "outputs": [],
   "source": [
    "def trap(height):\n",
    "    \n",
    "    prefix = []\n",
    "    suffix = []\n",
    "    mx = height[0]\n",
    "    for i in range(0,len(height)):\n",
    "        mx = max(mx,height[i])\n",
    "        prefix.append(mx)\n",
    "    print(prefix)    \n",
    "    mx1 = height[-1]\n",
    "    print(height)\n",
    "\n",
    "    for i in range(len(height)-1,-1,-1):\n",
    "        mx1 = max(mx1,height[i])\n",
    "        suffix.append(mx1)\n",
    "    suffix.reverse()   \n",
    "        \n",
    "    print(suffix)    \n",
    "    \n",
    "    ans = 0\n",
    "    for i in range(1,len(height)):\n",
    "        left = prefix[i]\n",
    "        right =suffix[i]\n",
    "            \n",
    "        data = min(left,right)-height[i]\n",
    "        if data > 0:\n",
    "            ans+=data\n",
    "            \n",
    "    print(ans)        \n",
    "            \n",
    "            \n",
    "    \n",
    "        "
   ]
  },
  {
   "cell_type": "code",
   "execution_count": 74,
   "id": "e8b06290",
   "metadata": {},
   "outputs": [
    {
     "name": "stdout",
     "output_type": "stream",
     "text": [
      "[0, 1, 1, 2, 2, 2, 2, 3, 3, 3, 3, 3]\n",
      "[0, 1, 0, 2, 1, 0, 1, 3, 2, 1, 2, 1]\n",
      "[1, 2, 2, 2, 3, 3, 3, 3, 3, 3, 3, 3]\n",
      "11\n"
     ]
    }
   ],
   "source": [
    "trap([0,1,0,2,1,0,1,3,2,1,2,1])"
   ]
  },
  {
   "cell_type": "code",
   "execution_count": 92,
   "id": "f2e3b836",
   "metadata": {},
   "outputs": [
    {
     "data": {
      "text/plain": [
       "{'a': 1}"
      ]
     },
     "execution_count": 92,
     "metadata": {},
     "output_type": "execute_result"
    }
   ],
   "source": [
    "dic = {\"a\":1}\n",
    "dic[\"a\"]=dic.get(\"a\",0)\n",
    "dic"
   ]
  },
  {
   "cell_type": "markdown",
   "id": "b6e43dd3",
   "metadata": {},
   "source": [
    "# or"
   ]
  },
  {
   "cell_type": "code",
   "execution_count": 64,
   "id": "a758978f",
   "metadata": {},
   "outputs": [],
   "source": [
    "class Solution:\n",
    "    def trap(self, height):\n",
    "        n = len(height)\n",
    "        left = 0\n",
    "        right = n - 1\n",
    "        leftmax = 0\n",
    "        rightmax = 0  \n",
    "        res = 0\n",
    "        while left < right:\n",
    "            if height[left]<=height[right]:\n",
    "                if height[left]>=leftmax:\n",
    "                    leftmax = height[left]\n",
    "                    \n",
    "                else:\n",
    "                    res+= leftmax - height[left]\n",
    "                left+=1\n",
    "            else:\n",
    "                if height[right]>=rightmax:\n",
    "                    rightmax = height[right]\n",
    "                else:\n",
    "                    res+=rightmax - height[right]\n",
    "                right-=1\n",
    "        \n",
    "        return res  "
   ]
  },
  {
   "cell_type": "markdown",
   "id": "bf8ae116",
   "metadata": {},
   "source": [
    "# Product of Array Except Self"
   ]
  },
  {
   "cell_type": "code",
   "execution_count": 72,
   "id": "fc187eb1",
   "metadata": {},
   "outputs": [],
   "source": [
    "def productExceptSelf(nums):\n",
    "    ans = []\n",
    "    for i in range(len(nums)):\n",
    "        temp = 1\n",
    "        for j in range(len(nums)):\n",
    "            if nums[j]!=nums[i]:\n",
    "                temp*=nums[j]\n",
    "        ans.append(temp)    \n",
    "                \n",
    "    print(ans)            "
   ]
  },
  {
   "cell_type": "code",
   "execution_count": 73,
   "id": "91cd0ed9",
   "metadata": {},
   "outputs": [
    {
     "name": "stdout",
     "output_type": "stream",
     "text": [
      "[24, 12, 8, 6]\n"
     ]
    }
   ],
   "source": [
    "productExceptSelf([1,2,3,4])"
   ]
  },
  {
   "cell_type": "markdown",
   "id": "f362ae36",
   "metadata": {},
   "source": [
    "# or"
   ]
  },
  {
   "cell_type": "code",
   "execution_count": 62,
   "id": "402445dc",
   "metadata": {},
   "outputs": [],
   "source": [
    "def productExceptSelf(nums):\n",
    "        arr = []\n",
    "        prefix = []\n",
    "        suffix = [1]*(len(nums))\n",
    "        for i in range(len(nums)):\n",
    "            if i>0:\n",
    "                prefix.append(nums[i]*prefix[i-1])\n",
    "            else:\n",
    "                prefix.append(nums[i])\n",
    "        print(prefix)\n",
    "        \n",
    "        for i in range(len(nums)-1,-1,-1):\n",
    "            if i<len(nums)-1:\n",
    "                suffix[i]=suffix[i+1]*nums[i]\n",
    "            else:\n",
    "                suffix[i]=nums[i]\n",
    "        print(suffix)        \n",
    "        \n",
    "        for i in range(len(nums)):\n",
    "            if i==0:\n",
    "                arr.append(suffix[i+1])\n",
    "            elif i==len(nums)-1:\n",
    "                arr.append(prefix[i-1])\n",
    "            else:        \n",
    "                arr.append(prefix[i-1]*suffix[i+1])\n",
    "            \n",
    "        return arr"
   ]
  },
  {
   "cell_type": "code",
   "execution_count": 63,
   "id": "7992b7c3",
   "metadata": {},
   "outputs": [
    {
     "name": "stdout",
     "output_type": "stream",
     "text": [
      "[1, 2, 6, 24]\n",
      "[24, 24, 12, 4]\n"
     ]
    },
    {
     "data": {
      "text/plain": [
       "[24, 12, 8, 6]"
      ]
     },
     "execution_count": 63,
     "metadata": {},
     "output_type": "execute_result"
    }
   ],
   "source": [
    "productExceptSelf([1,2,3,4])"
   ]
  },
  {
   "cell_type": "markdown",
   "id": "2bc55e9d",
   "metadata": {},
   "source": [
    "# OR"
   ]
  },
  {
   "cell_type": "code",
   "execution_count": 69,
   "id": "07133d69",
   "metadata": {},
   "outputs": [],
   "source": [
    "def productExceptSelf(nums):\n",
    "        res = [1]*len(nums)\n",
    "        prefix = 1\n",
    "        postfix = 1\n",
    "        for i in range(len(nums)):\n",
    "            res[i] = prefix\n",
    "            prefix*=nums[i]\n",
    "        print(res)\n",
    "        \n",
    "        \n",
    "        for i in range(len(nums)-1,-1,-1):\n",
    "            res[i]*=postfix\n",
    "            postfix*= nums[i]\n",
    "            \n",
    "            \n",
    "            \n",
    "        return res  "
   ]
  },
  {
   "cell_type": "code",
   "execution_count": 70,
   "id": "2a8e2e0f",
   "metadata": {},
   "outputs": [
    {
     "name": "stdout",
     "output_type": "stream",
     "text": [
      "[1, 1, 2, 6]\n"
     ]
    },
    {
     "data": {
      "text/plain": [
       "[24, 12, 8, 6]"
      ]
     },
     "execution_count": 70,
     "metadata": {},
     "output_type": "execute_result"
    }
   ],
   "source": [
    "productExceptSelf([1,2,3,4])"
   ]
  },
  {
   "cell_type": "markdown",
   "id": "8d4e9421",
   "metadata": {},
   "source": [
    "# Maximum Product Subarray"
   ]
  },
  {
   "cell_type": "code",
   "execution_count": 2,
   "id": "50eaae93",
   "metadata": {},
   "outputs": [],
   "source": [
    "def maxProduct(nums):\n",
    "        res = 0\n",
    "        if len(nums)==1:\n",
    "            return nums[0]\n",
    "        for i in range(len(nums)):\n",
    "            temp = []\n",
    "            temp1 = 1\n",
    "            for j in range(i,len(nums)):\n",
    "                temp1*=nums[j]\n",
    "                temp.append(temp1)\n",
    "            res = max(max(temp),res)\n",
    "        return res"
   ]
  },
  {
   "cell_type": "markdown",
   "id": "d7ea5e81",
   "metadata": {},
   "source": [
    "Input: nums = [2,3,-2,4]\n",
    "Output: 6\n",
    "Explanation: [2,3] has the largest product 6."
   ]
  },
  {
   "cell_type": "markdown",
   "id": "daadf432",
   "metadata": {},
   "source": [
    "# or"
   ]
  },
  {
   "cell_type": "code",
   "execution_count": 77,
   "id": "23ce7502",
   "metadata": {},
   "outputs": [
    {
     "name": "stdout",
     "output_type": "stream",
     "text": [
      "[2, 6, -1, 12, 2, 8, 80]\n",
      "[2, 3, -6, -2, -12, -48, -480]\n"
     ]
    },
    {
     "data": {
      "text/plain": [
       "80"
      ]
     },
     "execution_count": 77,
     "metadata": {},
     "output_type": "execute_result"
    }
   ],
   "source": [
    "def maxProduct(nums):\n",
    "        res = nums[0]\n",
    "        mx = nums[0]\n",
    "        mn = nums[0]\n",
    "        m_x = [nums[0]]\n",
    "        m_n = [nums[0]]\n",
    "        if len(nums)==1:\n",
    "            return nums[0]\n",
    "        for i in range(1,len(nums)):\n",
    "            if nums[i] < 0:\n",
    "                mx,mn = mn,mx\n",
    "\n",
    "            mx = max(nums[i],nums[i]*mx)\n",
    "            mn = min(nums[i],nums[i]*mn)\n",
    "            m_x.append(mx)\n",
    "            m_n.append(mn)\n",
    "            res = max(res,mx)\n",
    "        print(m_x)\n",
    "        print(m_n)\n",
    "        return  res\n",
    "            \n",
    "maxProduct([2,3,-1,-2,-1,4,10])"
   ]
  },
  {
   "cell_type": "markdown",
   "id": "95ab389d",
   "metadata": {},
   "source": [
    "# Find Minimum in Rotated Sorted Array"
   ]
  },
  {
   "cell_type": "code",
   "execution_count": 4,
   "id": "988177f2",
   "metadata": {},
   "outputs": [],
   "source": [
    "def findMin(nums):\n",
    "        left = 0\n",
    "        right = len(nums)-1\n",
    "        if nums[left] < nums[right]:\n",
    "            return nums[left]\n",
    "        else:\n",
    "            while nums[left] > nums[right]:\n",
    "                mid = (left+right)//2\n",
    "                if nums[mid] > nums[right]:\n",
    "                    left = mid+1\n",
    "                else:\n",
    "                    right = mid\n",
    "                    \n",
    "            return nums[left]"
   ]
  },
  {
   "cell_type": "markdown",
   "id": "460aea07",
   "metadata": {},
   "source": [
    "Input: nums = [3,4,5,1,2]\n",
    "Output: 1"
   ]
  },
  {
   "cell_type": "markdown",
   "id": "e5945ad3",
   "metadata": {},
   "source": [
    "# 2 sum"
   ]
  },
  {
   "cell_type": "code",
   "execution_count": 78,
   "id": "27c4acd6",
   "metadata": {},
   "outputs": [],
   "source": [
    "def twoSum(nums):\n",
    "        my_dict = {}\n",
    "        for i in range(len(nums)):\n",
    "            difference = target - nums[i]\n",
    "            if difference in my_dict:\n",
    "                return [my_dict[difference],i]\n",
    "            else:\n",
    "                my_dict[nums[i]]=i"
   ]
  },
  {
   "cell_type": "markdown",
   "id": "9bf51324",
   "metadata": {},
   "source": [
    "Input: nums = [2,7,11,15], target = 9\n",
    "Output: [0,1]\n",
    "Explanation: Because nums[0] + nums[1] == 9, we return [0, 1]"
   ]
  },
  {
   "cell_type": "markdown",
   "id": "9d08d508",
   "metadata": {},
   "source": [
    "# 2sum ||"
   ]
  },
  {
   "cell_type": "code",
   "execution_count": 79,
   "id": "16908170",
   "metadata": {},
   "outputs": [],
   "source": [
    " def twoSum( numbers):\n",
    "        left = 0\n",
    "        right = len(numbers)-1\n",
    "        while left < right:\n",
    "            total = numbers[left]+numbers[right]\n",
    "            if total > target:\n",
    "                right-=1\n",
    "            elif total < target:\n",
    "                left+=1\n",
    "            else:\n",
    "                return [left+1,right+1]"
   ]
  },
  {
   "cell_type": "markdown",
   "id": "a3f3e6b2",
   "metadata": {},
   "source": [
    "Input: numbers = [2,7,11,15], target = 9\n",
    "Output: [1,2]\n",
    "Explanation: The sum of 2 and 7 is 9. Therefore, index1 = 1, index2 = 2. We return [1, 2]"
   ]
  },
  {
   "cell_type": "markdown",
   "id": "b14812b8",
   "metadata": {},
   "source": [
    "# 3 sum"
   ]
  },
  {
   "cell_type": "code",
   "execution_count": 84,
   "id": "2068f357",
   "metadata": {},
   "outputs": [],
   "source": [
    "def threeSum(nums):\n",
    "        res = []\n",
    "        nums.sort()\n",
    "        print(nums)\n",
    "        for i, a in enumerate(nums):\n",
    "            if i>0 and a==nums[i-1]:\n",
    "                continue\n",
    "            l,r = i+1, len(nums)-1\n",
    "            while l<r:\n",
    "                total = a+nums[l]+nums[r]\n",
    "                if total > 0:\n",
    "                    r-=1\n",
    "                elif total < 0:\n",
    "                    l+=1\n",
    "                else:\n",
    "                    res.append([a,nums[l],nums[r]])\n",
    "                    l+=1\n",
    "                    while l<r and nums[l]==nums[l-1]:\n",
    "                        l+=1\n",
    "                        \n",
    "        return res                \n",
    "            "
   ]
  },
  {
   "cell_type": "code",
   "execution_count": 85,
   "id": "2a9b8800",
   "metadata": {},
   "outputs": [
    {
     "name": "stdout",
     "output_type": "stream",
     "text": [
      "[-4, -1, -1, 0, 1, 2]\n"
     ]
    },
    {
     "data": {
      "text/plain": [
       "[[-1, -1, 2], [-1, 0, 1]]"
      ]
     },
     "execution_count": 85,
     "metadata": {},
     "output_type": "execute_result"
    }
   ],
   "source": [
    "threeSum([-1,0,1,2,-1,-4])"
   ]
  },
  {
   "cell_type": "markdown",
   "id": "7b94b011",
   "metadata": {},
   "source": [
    "Input: nums = [-1,0,1,2,-1,-4]\n",
    "Output: [[-1,-1,2],[-1,0,1]]"
   ]
  },
  {
   "cell_type": "markdown",
   "id": "76284419",
   "metadata": {},
   "source": [
    "# Container With Most Water"
   ]
  },
  {
   "cell_type": "code",
   "execution_count": 1,
   "id": "6566659f",
   "metadata": {},
   "outputs": [],
   "source": [
    "def maxArea(height):\n",
    "        n = len(height)-1\n",
    "        left_p = 0\n",
    "        right_p = n\n",
    "        res = 0\n",
    "        while left_p < right_p:\n",
    "            temp=(right_p-left_p)*min(height[left_p],height[right_p])\n",
    "            res = max(res,temp)\n",
    "            if height[left_p] <= height[right_p]:\n",
    "                left_p+=1\n",
    "                \n",
    "            else:\n",
    "                right_p-=1\n",
    "        return res  "
   ]
  },
  {
   "cell_type": "markdown",
   "id": "f5f0a4d0",
   "metadata": {},
   "source": [
    "Input: height = [1,8,6,2,5,4,8,3,7]\n",
    "Output: 49"
   ]
  },
  {
   "cell_type": "markdown",
   "id": "073a3aac",
   "metadata": {},
   "source": [
    "# Given a sorted and rotated array, find if there is a pair with a given sum"
   ]
  },
  {
   "cell_type": "code",
   "execution_count": 10,
   "id": "72a45958",
   "metadata": {},
   "outputs": [
    {
     "data": {
      "text/plain": [
       "True"
      ]
     },
     "execution_count": 10,
     "metadata": {},
     "output_type": "execute_result"
    }
   ],
   "source": [
    "def sorted(arr,s):\n",
    "    l = 0\n",
    "    right = len(arr)-1\n",
    "    while l<right:\n",
    "        total = arr[l]+arr[right]\n",
    "        if total > s:\n",
    "            right-=1\n",
    "        elif total < s:\n",
    "            l+=1\n",
    "        else:\n",
    "            return True\n",
    "        \n",
    "sorted([6,8,9,10,11,15],14)        \n",
    "#solution for the sorted array    "
   ]
  },
  {
   "cell_type": "code",
   "execution_count": 1,
   "id": "da43353d",
   "metadata": {},
   "outputs": [],
   "source": [
    "def rotated(arr,s):\n",
    "    n = len(arr)\n",
    "    for i in range(len(arr)):\n",
    "        if arr[i]>arr[i+1]:\n",
    "            break\n",
    "    \n",
    "    \n",
    "    print(i)        \n",
    "    large = i\n",
    "    small = i+1\n",
    "    while large!=small:\n",
    "        total = arr[large]+arr[small]\n",
    "        print(total)\n",
    "        if total==s:\n",
    "            print(True)\n",
    "            break\n",
    "        if total > s:\n",
    "            large = (n+large-1)%n\n",
    "        else:\n",
    "            small = (small+1)%n\n",
    "            \n",
    "            "
   ]
  },
  {
   "cell_type": "code",
   "execution_count": 4,
   "id": "68a74ca3",
   "metadata": {},
   "outputs": [
    {
     "data": {
      "text/plain": [
       "4"
      ]
     },
     "execution_count": 4,
     "metadata": {},
     "output_type": "execute_result"
    }
   ],
   "source": [
    "(4)%6"
   ]
  },
  {
   "cell_type": "code",
   "execution_count": 2,
   "id": "85d34aef",
   "metadata": {},
   "outputs": [
    {
     "name": "stdout",
     "output_type": "stream",
     "text": [
      "1\n",
      "21\n",
      "17\n",
      "16\n",
      "True\n"
     ]
    }
   ],
   "source": [
    "rotated([11, 15, 6, 8, 9, 10],16)"
   ]
  },
  {
   "cell_type": "markdown",
   "id": "7aae8348",
   "metadata": {},
   "source": [
    "# KTH SMALLEST ELEMENT"
   ]
  },
  {
   "cell_type": "code",
   "execution_count": 14,
   "id": "709e2b32",
   "metadata": {},
   "outputs": [],
   "source": [
    "def swap(a,b,arr):\n",
    "    if a!=b:\n",
    "        arr[a],arr[b]=arr[b],arr[a]\n",
    "        \n",
    "def partition(arr,start,end):\n",
    "    pivot = arr[end]\n",
    "    p_index = start\n",
    "    for i in range(start,end):\n",
    "        if arr[i] <= pivot:\n",
    "            swap(i,p_index,arr)\n",
    "            p_index+=1\n",
    "    swap(p_index,end,arr)\n",
    "    return p_index\n",
    "\n",
    "def findKSmallest(arr,start,end,k):\n",
    "    if start<=end:\n",
    "        pi = partition(arr,start,end)\n",
    "        print(arr)\n",
    "        if pi == k:\n",
    "            return arr[pi]\n",
    "        elif pi > k:\n",
    "            return findKSmallest(arr,start,pi-1,k)\n",
    "        else:\n",
    "            return findKSmallest(arr,pi+1,end,k)\n",
    "        \n",
    "    \n",
    "    "
   ]
  },
  {
   "cell_type": "code",
   "execution_count": 15,
   "id": "5e6f79b8",
   "metadata": {},
   "outputs": [],
   "source": [
    "arr = [7, 10, 4 ,3, 20 ,15]"
   ]
  },
  {
   "cell_type": "code",
   "execution_count": 39,
   "id": "89a78212",
   "metadata": {},
   "outputs": [
    {
     "name": "stdout",
     "output_type": "stream",
     "text": [
      "[7, 10, 4, 3, 15, 20]\n",
      "[7, 10, 4, 3, 15, 20]\n",
      "[3, 10, 4, 7, 15, 20]\n"
     ]
    },
    {
     "data": {
      "text/plain": [
       "3"
      ]
     },
     "execution_count": 39,
     "metadata": {},
     "output_type": "execute_result"
    }
   ],
   "source": [
    "k=1\n",
    "findKSmallest(arr,0,len(arr)-1,k-1)"
   ]
  },
  {
   "cell_type": "markdown",
   "id": "499e6561",
   "metadata": {},
   "source": [
    "# OR"
   ]
  },
  {
   "cell_type": "code",
   "execution_count": 47,
   "id": "5b960aa1",
   "metadata": {},
   "outputs": [],
   "source": [
    "def kthSmallest(arr, l, r, k):\n",
    "        '''\n",
    "        arr : given array\n",
    "        l : starting index of the array i.e 0\n",
    "        r : ending index of the array i.e size-1\n",
    "        k : find kth smallest element and return using this function\n",
    "        '''\n",
    "        pivot = arr[r]\n",
    "        left_array = [x for x in arr if x < pivot]\n",
    "        mid = [x for x in arr if x == pivot]\n",
    "        right_array = [x for x in arr if x > pivot]\n",
    "        l,m = len(left_array),len(mid)\n",
    "        if k <= l:\n",
    "            return kthSmallest(left_array,0,len(left_array)-1,k)\n",
    "        elif k > (l+m):\n",
    "            return kthSmallest(right_array,0,len(right_array)-1,(k-(l+m)))\n",
    "        else:\n",
    "            return mid[0]"
   ]
  },
  {
   "cell_type": "code",
   "execution_count": 49,
   "id": "1397c76d",
   "metadata": {},
   "outputs": [
    {
     "data": {
      "text/plain": [
       "4"
      ]
     },
     "execution_count": 49,
     "metadata": {},
     "output_type": "execute_result"
    }
   ],
   "source": [
    "arr = [7, 10, 4 ,3, 20 ,15]\n",
    "k = 2\n",
    "kthSmallest(arr,0,len(arr)-1,k)"
   ]
  },
  {
   "cell_type": "code",
   "execution_count": 3,
   "id": "0e3d5311",
   "metadata": {},
   "outputs": [
    {
     "data": {
      "text/plain": [
       "0"
      ]
     },
     "execution_count": 3,
     "metadata": {},
     "output_type": "execute_result"
    }
   ],
   "source": []
  },
  {
   "cell_type": "code",
   "execution_count": null,
   "id": "3838da41",
   "metadata": {},
   "outputs": [],
   "source": []
  }
 ],
 "metadata": {
  "kernelspec": {
   "display_name": "Python 3",
   "language": "python",
   "name": "python3"
  },
  "language_info": {
   "codemirror_mode": {
    "name": "ipython",
    "version": 3
   },
   "file_extension": ".py",
   "mimetype": "text/x-python",
   "name": "python",
   "nbconvert_exporter": "python",
   "pygments_lexer": "ipython3",
   "version": "3.8.8"
  }
 },
 "nbformat": 4,
 "nbformat_minor": 5
}
