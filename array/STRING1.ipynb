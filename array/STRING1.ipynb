{
 "cells": [
  {
   "cell_type": "markdown",
   "id": "921dd033",
   "metadata": {},
   "source": [
    "# VALID PALINDROME"
   ]
  },
  {
   "cell_type": "code",
   "execution_count": 1,
   "id": "0a821c87",
   "metadata": {},
   "outputs": [
    {
     "data": {
      "text/plain": [
       "True"
      ]
     },
     "execution_count": 1,
     "metadata": {},
     "output_type": "execute_result"
    }
   ],
   "source": [
    "def isPalindrome(s):\n",
    "        l, r = 0, len(s)-1\n",
    "        \n",
    "        while l < r:\n",
    "            while l < r and not s[l].isalnum():\n",
    "                l += 1\n",
    "            while l <r and not s[r].isalnum():\n",
    "                r -= 1\n",
    "            if s[l].lower() != s[r].lower():\n",
    "                return False\n",
    "            l +=1\n",
    "            r -= 1\n",
    "            \n",
    "        return True\n",
    "        \n",
    "isPalindrome(\"malaya:lam\")"
   ]
  },
  {
   "cell_type": "markdown",
   "id": "5dd20654",
   "metadata": {},
   "source": [
    "# OR"
   ]
  },
  {
   "cell_type": "code",
   "execution_count": 2,
   "id": "eba6c77f",
   "metadata": {},
   "outputs": [
    {
     "name": "stdout",
     "output_type": "stream",
     "text": [
      "['m', 'a', 'l', 'a', 'y', 'a', 'l', 'a', 'm']\n"
     ]
    },
    {
     "data": {
      "text/plain": [
       "True"
      ]
     },
     "execution_count": 2,
     "metadata": {},
     "output_type": "execute_result"
    }
   ],
   "source": [
    " def isPalindrome(s):\n",
    "        def check(arr,start,end):\n",
    "            is_palindrome = True\n",
    "            while 0<=start<n and 0<=end<n:\n",
    "                if arr[start]!=arr[end]:\n",
    "                    is_palindrome = False\n",
    "                    break\n",
    "                start+=1\n",
    "                end-=1\n",
    "            return is_palindrome         \n",
    "          \n",
    "        temp = [i.lower() for i in s if i.isalnum()]\n",
    "        print(temp)\n",
    "        n =len(temp)\n",
    "        if n%2==0:\n",
    "            return check(temp,n//2-1,n//2)\n",
    "        else:\n",
    "            return check(temp,n//2,n//2)\n",
    "isPalindrome(\"MALAYA$^&^LAM\")           "
   ]
  },
  {
   "cell_type": "markdown",
   "id": "865f9a34",
   "metadata": {},
   "source": [
    "# VALID ANAGRAM"
   ]
  },
  {
   "cell_type": "code",
   "execution_count": 3,
   "id": "5c0c3ec9",
   "metadata": {},
   "outputs": [],
   "source": [
    "def isAnagram(s):\n",
    "        n = len(t)\n",
    "        count = 0\n",
    "        for i in s:\n",
    "            if i in t:\n",
    "                t = t.replace(i,\"\",1)\n",
    "                count+=1\n",
    "      \n",
    "        if count==len(s) and len(s)==n:\n",
    "            return True\n",
    "        else:\n",
    "            return False"
   ]
  },
  {
   "cell_type": "markdown",
   "id": "eeaee860",
   "metadata": {},
   "source": [
    "Input: s = \"anagram\", t = \"nagaram\"\n",
    "Output: true"
   ]
  },
  {
   "cell_type": "markdown",
   "id": "8128610b",
   "metadata": {},
   "source": [
    "# OR"
   ]
  },
  {
   "cell_type": "code",
   "execution_count": 4,
   "id": "a07dbe60",
   "metadata": {},
   "outputs": [],
   "source": [
    "def isAnagram(s,t):\n",
    "        my_dict = {}\n",
    "        for i, a in enumerate(s):\n",
    "            if a in my_dict:\n",
    "                my_dict[a]+=1\n",
    "            else:\n",
    "                my_dict[a]=1\n",
    "                \n",
    "        for i, a in enumerate(t):\n",
    "            if a in my_dict:\n",
    "                my_dict[a]-=1\n",
    "            else:\n",
    "                return False\n",
    "            \n",
    "            if my_dict[a]==0:\n",
    "                del my_dict[a]\n",
    "                \n",
    "        if my_dict == {}:\n",
    "            return True\n",
    "        else:\n",
    "            return False"
   ]
  },
  {
   "cell_type": "markdown",
   "id": "14842ccf",
   "metadata": {},
   "source": [
    "# Valid Parentheses"
   ]
  },
  {
   "cell_type": "code",
   "execution_count": 45,
   "id": "52579f71",
   "metadata": {},
   "outputs": [
    {
     "name": "stdout",
     "output_type": "stream",
     "text": [
      "{']': '[', '}': '{', ')': '('}\n"
     ]
    },
    {
     "data": {
      "text/plain": [
       "True"
      ]
     },
     "execution_count": 45,
     "metadata": {},
     "output_type": "execute_result"
    }
   ],
   "source": [
    "def isValid(s):\n",
    "    stack = []\n",
    "    dict = {\"]\":\"[\", \"}\":\"{\", \")\":\"(\"}\n",
    "    print(dict)\n",
    "    for char in s:\n",
    "        if char in dict.values():\n",
    "            stack.append(char)\n",
    "        elif char in dict.keys():\n",
    "            if stack == [] or dict[char] != stack.pop():\n",
    "                return False\n",
    "        else:\n",
    "            return False\n",
    "    return stack == [] \n",
    "isValid(\"()[]{}\")\n"
   ]
  },
  {
   "cell_type": "code",
   "execution_count": 32,
   "id": "c711a676",
   "metadata": {},
   "outputs": [
    {
     "name": "stdout",
     "output_type": "stream",
     "text": [
      "2 3\n",
      "enterd\n"
     ]
    },
    {
     "data": {
      "text/plain": [
       "False"
      ]
     },
     "execution_count": 32,
     "metadata": {},
     "output_type": "execute_result"
    }
   ],
   "source": [
    "isValid(\"()[]{}\")"
   ]
  },
  {
   "cell_type": "code",
   "execution_count": 46,
   "id": "7c880fda",
   "metadata": {},
   "outputs": [
    {
     "name": "stdout",
     "output_type": "stream",
     "text": [
      "{']': '[', '}': '{', ')': '('}\n"
     ]
    },
    {
     "data": {
      "text/plain": [
       "True"
      ]
     },
     "execution_count": 46,
     "metadata": {},
     "output_type": "execute_result"
    }
   ],
   "source": [
    "isValid(\"(([]){})\")"
   ]
  },
  {
   "cell_type": "markdown",
   "id": "f488f980",
   "metadata": {},
   "source": [
    "# REMOVE CONSECUTIVE CHARACTERS"
   ]
  },
  {
   "cell_type": "code",
   "execution_count": 47,
   "id": "d822f172",
   "metadata": {},
   "outputs": [],
   "source": [
    "\n",
    "class Solution:\n",
    "    def removeConsecutiveCharacter(self, S):\n",
    "        # code here\n",
    "        res = \"\"\n",
    "        prev = \"\"\n",
    "        for i in range(len(S)):\n",
    "            if S[i]==prev:\n",
    "                continue\n",
    "            else:\n",
    "                res+=S[i]\n",
    "                prev = S[i]\n",
    "            \n",
    "        return res "
   ]
  },
  {
   "cell_type": "markdown",
   "id": "669d4785",
   "metadata": {},
   "source": [
    "S = aabb\n",
    "Output:  ab \n",
    "Explanation: 'a' at 2nd position is\n",
    "appearing 2nd time consecutively.\n",
    "Similiar explanation for b at\n",
    "4th position."
   ]
  },
  {
   "cell_type": "markdown",
   "id": "32b4d971",
   "metadata": {},
   "source": [
    "# LONGEST COMMON PREFIX"
   ]
  },
  {
   "cell_type": "code",
   "execution_count": 51,
   "id": "a729d11f",
   "metadata": {},
   "outputs": [],
   "source": [
    "def longestCommonPrefix(strs):\n",
    "        if len(strs)==1:\n",
    "            return strs[0]\n",
    "        res = \"\"\n",
    "        for i in range(len(strs)-1):\n",
    "            mn = min(len(strs[i]),len(strs[i+1]))\n",
    "            j = 0\n",
    "            temp = \"\"\n",
    "            while j< mn:\n",
    "                if strs[i][j]==strs[i+1][j]:\n",
    "                    temp+=strs[i][j]\n",
    "                    j+=1\n",
    "                else:\n",
    "                    break\n",
    "            if i==0:\n",
    "                res = temp\n",
    "            else:\n",
    "                if temp in res:\n",
    "                     res = temp\n",
    "        return res             \n",
    "            \n",
    "        "
   ]
  },
  {
   "cell_type": "markdown",
   "id": "f5a87a70",
   "metadata": {},
   "source": [
    "Input: strs = [\"flower\",\"flow\",\"flight\"]\n",
    "Output: \"fl\""
   ]
  },
  {
   "cell_type": "markdown",
   "id": "205ea900",
   "metadata": {},
   "source": [
    "# Print all the duplicates in the input strin"
   ]
  },
  {
   "cell_type": "code",
   "execution_count": 69,
   "id": "c191bbd0",
   "metadata": {},
   "outputs": [],
   "source": [
    "def get_duplicates(strg):\n",
    "    my_dict = {}\n",
    "    for i in string:\n",
    "        if ord(i) in my_dict:\n",
    "            my_dict[ord(i)]+=1\n",
    "        else:\n",
    "            my_dict[ord(i)]=1\n",
    "            \n",
    "    for i in my_dict:\n",
    "        if my_dict[i] > 1:\n",
    "            print(f'{chr(i)}:count-{my_dict[i]}')\n",
    "    "
   ]
  },
  {
   "cell_type": "code",
   "execution_count": 70,
   "id": "00f418f5",
   "metadata": {},
   "outputs": [
    {
     "name": "stdout",
     "output_type": "stream",
     "text": [
      "t:count-3\n",
      "s:count-2\n"
     ]
    }
   ],
   "source": [
    "get_duplicates(string)\n",
    "string = \"test string\""
   ]
  },
  {
   "cell_type": "markdown",
   "id": "c24640d3",
   "metadata": {},
   "source": [
    "# 424. Longest Repeating Character Replacement"
   ]
  },
  {
   "cell_type": "code",
   "execution_count": 74,
   "id": "1427d895",
   "metadata": {},
   "outputs": [],
   "source": [
    "def characterReplacement(s,k):\n",
    "        left = 0\n",
    "        right = 0\n",
    "        res = 0\n",
    "        for i,a in enumerate(s):\n",
    "            left = i\n",
    "            right = i\n",
    "            count = {}\n",
    "            while left<=right and right<len(s):\n",
    "                if not s[right] in count:\n",
    "                    count[s[right]]=1\n",
    "                else:\n",
    "                    count[s[right]]+=1\n",
    "                if len(s[left:right+1]) - max(count.values())<=k:\n",
    "                    res = max(res, len(s[left:right+1]))\n",
    "                right+=1\n",
    "        return res"
   ]
  },
  {
   "cell_type": "code",
   "execution_count": 75,
   "id": "d5fd5fde",
   "metadata": {},
   "outputs": [
    {
     "data": {
      "text/plain": [
       "4"
      ]
     },
     "execution_count": 75,
     "metadata": {},
     "output_type": "execute_result"
    }
   ],
   "source": [
    "characterReplacement(s = \"AABABBA\", k = 1)"
   ]
  },
  {
   "cell_type": "code",
   "execution_count": 76,
   "id": "2cfdee3f",
   "metadata": {},
   "outputs": [
    {
     "data": {
      "text/plain": [
       "7"
      ]
     },
     "execution_count": 76,
     "metadata": {},
     "output_type": "execute_result"
    }
   ],
   "source": [
    "characterReplacement(\"CABAAAABBBBBA\", 2)"
   ]
  },
  {
   "cell_type": "markdown",
   "id": "c85b12ee",
   "metadata": {},
   "source": [
    "# or"
   ]
  },
  {
   "cell_type": "code",
   "execution_count": 1,
   "id": "d1cd7fa9",
   "metadata": {},
   "outputs": [],
   "source": [
    "def characterReplacement(s,k):\n",
    "        left = 0\n",
    "        res = 0\n",
    "        count = {}\n",
    "        for right,a in enumerate(s):  \n",
    "            if not s[right] in count:\n",
    "                count[s[right]]=1\n",
    "            else:\n",
    "                count[s[right]]+=1\n",
    "                    \n",
    "            if (right - left+1) - max(count.values())>k:\n",
    "                count[s[left]]-=1\n",
    "                left+=1\n",
    "            \n",
    "            res = max(res, len(s[left:right+1]))\n",
    "        return res"
   ]
  },
  {
   "cell_type": "markdown",
   "id": "18e8aa03",
   "metadata": {},
   "source": [
    "#  Longest Substring Without Repeating Characters"
   ]
  },
  {
   "cell_type": "code",
   "execution_count": 2,
   "id": "7cbdcaf4",
   "metadata": {},
   "outputs": [],
   "source": [
    "def lengthOfLongestSubstring(s):\n",
    "        if len(s)<=1:\n",
    "            return len(s)\n",
    "        res = 0\n",
    "        left = 0\n",
    "        temp = s[left]\n",
    "        right = left+1\n",
    "        while right < len(s):\n",
    "            if s[right] not in temp:\n",
    "                temp+=s[right]\n",
    "                res = max(res,len(temp))\n",
    "                right+=1\n",
    "            else:\n",
    "                res = max(res,len(temp))\n",
    "                left+=1\n",
    "                if left > len(s)-1:\n",
    "                    break\n",
    "                temp = s[left]\n",
    "                right = left+1\n",
    "               \n",
    "                \n",
    "        return res        \n",
    "                   "
   ]
  },
  {
   "cell_type": "markdown",
   "id": "11d2e23d",
   "metadata": {},
   "source": [
    "Input: s = \"abcabcbb\"\n",
    "Output: 3\n",
    "Explanation: The answer is \"abc\", with the length of 3"
   ]
  },
  {
   "cell_type": "markdown",
   "id": "f3b0e2be",
   "metadata": {},
   "source": [
    "# or"
   ]
  },
  {
   "cell_type": "code",
   "execution_count": 3,
   "id": "bd1a42f7",
   "metadata": {},
   "outputs": [],
   "source": [
    "def lengthOfLongestSubstring(s):\n",
    "        dic, res, start, = {}, 0, 0\n",
    "        for i, ch in enumerate(s):\n",
    "            if ch in dic:\n",
    "                res = max(res, i-start) # update the res\n",
    "                start = max(start, dic[ch]+1)  # here should be careful, like \n",
    "            dic[ch] = i\n",
    "        return max(res, len(s)-start)"
   ]
  },
  {
   "cell_type": "code",
   "execution_count": 7,
   "id": "a68c88e6",
   "metadata": {},
   "outputs": [
    {
     "data": {
      "text/plain": [
       "'bca'"
      ]
     },
     "execution_count": 7,
     "metadata": {},
     "output_type": "execute_result"
    }
   ],
   "source": [
    "strg = \"bca\"\n",
    "''.join(sorted(strg))\n",
    "strg"
   ]
  },
  {
   "cell_type": "markdown",
   "id": "e8a880b7",
   "metadata": {},
   "source": [
    "# group anagrams"
   ]
  },
  {
   "cell_type": "code",
   "execution_count": 8,
   "id": "928acc26",
   "metadata": {},
   "outputs": [],
   "source": [
    "    def groupAnagrams(strs):\n",
    "        my_dict = {}\n",
    "        for strg in strs:\n",
    "            sorted_strg = ''.join(sorted(strg))\n",
    "            if sorted_strg not in my_dict:\n",
    "                my_dict[sorted_strg]=[strg]\n",
    "            else:\n",
    "                my_dict[sorted_strg].append(strg)\n",
    "                \n",
    "                \n",
    "        lst = []\n",
    "        for i in my_dict.values():\n",
    "            lst.append(i)\n",
    "        return lst    \n",
    "        "
   ]
  },
  {
   "cell_type": "markdown",
   "id": "593d16ec",
   "metadata": {},
   "source": [
    "Input: strs = [\"eat\",\"tea\",\"tan\",\"ate\",\"nat\",\"bat\"]\n",
    "Output: [[\"bat\"],[\"nat\",\"tan\"],[\"ate\",\"eat\",\"tea\"]]"
   ]
  },
  {
   "cell_type": "markdown",
   "id": "1a589bf4",
   "metadata": {},
   "source": [
    "# Longest Palindromic Substring"
   ]
  },
  {
   "cell_type": "code",
   "execution_count": 10,
   "id": "deada376",
   "metadata": {},
   "outputs": [],
   "source": [
    "def longestPalindrome(s):\n",
    "        n = len(s)\n",
    "    \n",
    "    \n",
    "        def isp(start, end):  \n",
    "        \n",
    "            while (0<=start<n and 0<=end<n and s[start] == s[end]):\n",
    "                start -= 1\n",
    "                end += 1\n",
    "        \n",
    "            return s[start+1:end]\n",
    "    \n",
    "        res = ''\n",
    "    \n",
    "        for i in range(n):\n",
    "        \n",
    "            l1 = isp(i,i)     # center point is 1 number - total length is odd\n",
    "            l2 = isp(i,i+1)    # center point is 2 numbers - total length is even\n",
    "        \n",
    "            if max(len(l1), len(l2))> len(res):\n",
    "            \n",
    "                if len(l1) > len(l2):\n",
    "                    res = l1\n",
    "                else:\n",
    "                    res = l2\n",
    "    \n",
    "        return res\n",
    "            "
   ]
  },
  {
   "cell_type": "markdown",
   "id": "5e7d6bd1",
   "metadata": {},
   "source": [
    "Input: s = \"babad\"\n",
    "Output: \"bab\"\n",
    "Explanation: \"aba\" is also a valid answer."
   ]
  },
  {
   "cell_type": "markdown",
   "id": "2a14b029",
   "metadata": {},
   "source": [
    "# palindromic strings"
   ]
  },
  {
   "cell_type": "code",
   "execution_count": 2,
   "id": "69b0f245",
   "metadata": {},
   "outputs": [],
   "source": [
    "def countSubstrings(s):\n",
    "        res = 0\n",
    "        def myfun(arr,start,end):\n",
    "            n = len(arr)\n",
    "            count = 0\n",
    "            while 0<=start< n and  0<=end<n and arr[start]==arr[end]:\n",
    "                start-=1\n",
    "                end+=1\n",
    "                count+=1\n",
    "                \n",
    "            return count\n",
    "        \n",
    "        for i in range(len(s)):\n",
    "            even = myfun(s,i,i)\n",
    "            odd = myfun(s,i,i+1)\n",
    "            res+=even\n",
    "            res+=odd\n",
    "            \n",
    "        return res    \n",
    "    "
   ]
  },
  {
   "cell_type": "markdown",
   "id": "33028973",
   "metadata": {},
   "source": [
    "Input: s = \"aaa\"\n",
    "Output: 6\n",
    "Explanation: Six palindromic strings: \"a\", \"a\", \"a\", \"aa\", \"aa\", \"aaa\"."
   ]
  },
  {
   "cell_type": "markdown",
   "id": "28ff0f7d",
   "metadata": {},
   "source": [
    "# or"
   ]
  },
  {
   "cell_type": "code",
   "execution_count": 4,
   "id": "ce1cdb35",
   "metadata": {},
   "outputs": [
    {
     "data": {
      "text/plain": [
       "4"
      ]
     },
     "execution_count": 4,
     "metadata": {},
     "output_type": "execute_result"
    }
   ],
   "source": [
    "def countSubstrings(s):\n",
    "    N = len(s)\n",
    "    ans = 0\n",
    "    lst = []\n",
    "    for center in range(2*N - 1):\n",
    "        left = center // 2\n",
    "        right = left + center % 2\n",
    "        while left >= 0 and right < N and s[left] == s[right]:\n",
    "            ans += 1\n",
    "            left -= 1\n",
    "            right += 1\n",
    "        lst.append(s[left+1:right])       \n",
    "     \n",
    "    return ans\n",
    "        \n",
    "countSubstrings(\"aab\")"
   ]
  },
  {
   "cell_type": "code",
   "execution_count": 9,
   "id": "b130284b",
   "metadata": {},
   "outputs": [
    {
     "name": "stdout",
     "output_type": "stream",
     "text": [
      "{'a': 1, 'b': 2, 'c': 1}\n"
     ]
    },
    {
     "data": {
      "text/plain": [
       "2"
      ]
     },
     "execution_count": 9,
     "metadata": {},
     "output_type": "execute_result"
    }
   ],
   "source": [
    "s = \"abbc\"\n",
    "d = {}\n",
    "for  i in s:\n",
    "    d[i]= 1 + d.get(i,0)\n",
    "print(d)\n",
    "d.get(\"b\")"
   ]
  },
  {
   "cell_type": "markdown",
   "id": "0ebd5066",
   "metadata": {},
   "source": [
    "# minimum window substring"
   ]
  },
  {
   "cell_type": "code",
   "execution_count": 10,
   "id": "fbeec08e",
   "metadata": {},
   "outputs": [],
   "source": [
    "class Solution:\n",
    "    def minWindow(s,t):\n",
    "        if t == \"\": return \"\"\n",
    "        \n",
    "        countT, window = {}, {}\n",
    "        for c in t:\n",
    "            countT[c] = 1 + countT.get(c, 0)\n",
    "        \n",
    "        have, need = 0, len(countT)\n",
    "        res, resLen = [-1, -1], float(\"infinity\")\n",
    "        l = 0\n",
    "        for r in range(len(s)):\n",
    "            c = s[r]\n",
    "            window[c] = 1 + window.get(c, 0)\n",
    "            \n",
    "            if c in countT and window[c] == countT[c]:\n",
    "                have += 1\n",
    "        \n",
    "            while have == need:\n",
    "                # update our result\n",
    "                if (r - l + 1) < resLen:\n",
    "                    res = [l, r]\n",
    "                    resLen = (r - l + 1)\n",
    "                # pop from the left of our window\n",
    "                window[s[l]] -= 1\n",
    "                if s[l] in countT and window[s[l]] < countT[s[l]]:\n",
    "                    have -= 1\n",
    "                l += 1\n",
    "        l, r = res\n",
    "        return s[l:r+1] if resLen != float(\"infinity\") else \"\""
   ]
  },
  {
   "cell_type": "markdown",
   "id": "94ffd2b9",
   "metadata": {},
   "source": [
    "Input: s = \"ADOBECODEBANC\", t = \"ABC\"\n",
    "Output: \"BANC\"\n",
    "Explanation: The minimum window substring \"BANC\" includes 'A', 'B', and 'C' from string t."
   ]
  },
  {
   "cell_type": "code",
   "execution_count": 3,
   "id": "887189ef",
   "metadata": {},
   "outputs": [],
   "source": [
    "def minWindow(s,t):\n",
    "        if t == \"\": return \"\"\n",
    "        dict_t = {}\n",
    "        for i in t:\n",
    "            dict_t[i]=1 + dict_t.get(i,0)\n",
    "        dict_temp = {}    \n",
    "        have,need = 0, len(dict_t)\n",
    "        res = [-1,-1]\n",
    "        left = 0\n",
    "        res_length = float(\"infinity\")\n",
    "        for right in range(len(s)):\n",
    "            dict_temp[s[right]] = 1 + dict_temp.get(s[right],0)\n",
    "            \n",
    "            if s[right] in dict_t and dict_temp[s[right]]==dict_t[s[right]]:\n",
    "                have+=1\n",
    "                \n",
    "                \n",
    "            while have==need:\n",
    "                if (right-left+1) < res_length:\n",
    "                    res = [left,right]\n",
    "                    res_length = (right-left+1)\n",
    "                \n",
    "                dict_temp[s[left]]-=1\n",
    "                if s[left] in dict_t and dict_temp[s[left]] < dict_t[s[left]]:\n",
    "                    have-=1\n",
    "                \n",
    "                left+=1\n",
    "        left, right = res\n",
    "        return s[left:right+1] if res_length != float(\"infinity\") else \"\"        \n",
    "                    \n",
    "            "
   ]
  },
  {
   "cell_type": "code",
   "execution_count": 4,
   "id": "98461f7e",
   "metadata": {},
   "outputs": [
    {
     "data": {
      "text/plain": [
       "'aa'"
      ]
     },
     "execution_count": 4,
     "metadata": {},
     "output_type": "execute_result"
    }
   ],
   "source": [
    "minWindow(\"aa\",\"aa\")"
   ]
  },
  {
   "cell_type": "code",
   "execution_count": 31,
   "id": "26f5dfd4",
   "metadata": {},
   "outputs": [
    {
     "data": {
      "text/plain": [
       "'bba'"
      ]
     },
     "execution_count": 31,
     "metadata": {},
     "output_type": "execute_result"
    }
   ],
   "source": [
    "s =\"abba\"\n",
    "left = 0\n",
    "right = len(s)\n",
    "s[left+1:right]"
   ]
  },
  {
   "cell_type": "code",
   "execution_count": 33,
   "id": "becb0c07",
   "metadata": {},
   "outputs": [
    {
     "data": {
      "text/plain": [
       "'abb'"
      ]
     },
     "execution_count": 33,
     "metadata": {},
     "output_type": "execute_result"
    }
   ],
   "source": [
    "s[left:right-1]"
   ]
  },
  {
   "cell_type": "markdown",
   "id": "22bb8a95",
   "metadata": {},
   "source": [
    "# Longest Prefix Suffix "
   ]
  },
  {
   "cell_type": "code",
   "execution_count": 6,
   "id": "82c2f49c",
   "metadata": {},
   "outputs": [],
   "source": [
    "def lps(s):\n",
    "    n = len(s)\n",
    "    k = 0\n",
    "    j = 1\n",
    "    while j+k < n:\n",
    "        \n",
    "        if s[k] == s[j+k]:\n",
    "            k += 1\n",
    "        else:\n",
    "            j += 1\n",
    "            k = 0\n",
    "                    \n",
    "    return k\n",
    "\t    \n",
    "\t\t"
   ]
  },
  {
   "cell_type": "code",
   "execution_count": 13,
   "id": "c442c765",
   "metadata": {},
   "outputs": [
    {
     "data": {
      "text/plain": [
       "5"
      ]
     },
     "execution_count": 13,
     "metadata": {},
     "output_type": "execute_result"
    }
   ],
   "source": [
    "lps(\"abbbbzzzzccabbbb\")"
   ]
  },
  {
   "cell_type": "code",
   "execution_count": 17,
   "id": "1e547f5b",
   "metadata": {},
   "outputs": [
    {
     "name": "stdout",
     "output_type": "stream",
     "text": [
      "dfk\n"
     ]
    }
   ],
   "source": [
    "if \"abc\" in \"abcd\":\n",
    "    print(\"dfk\")\n",
    "    "
   ]
  },
  {
   "cell_type": "code",
   "execution_count": null,
   "id": "b240f691",
   "metadata": {},
   "outputs": [],
   "source": []
  }
 ],
 "metadata": {
  "kernelspec": {
   "display_name": "Python 3",
   "language": "python",
   "name": "python3"
  },
  "language_info": {
   "codemirror_mode": {
    "name": "ipython",
    "version": 3
   },
   "file_extension": ".py",
   "mimetype": "text/x-python",
   "name": "python",
   "nbconvert_exporter": "python",
   "pygments_lexer": "ipython3",
   "version": "3.8.8"
  }
 },
 "nbformat": 4,
 "nbformat_minor": 5
}
