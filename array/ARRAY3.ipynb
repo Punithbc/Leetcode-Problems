{
 "cells": [
  {
   "cell_type": "markdown",
   "id": "a91cc509",
   "metadata": {},
   "source": [
    "# Merge Overlapping Intervals"
   ]
  },
  {
   "cell_type": "code",
   "execution_count": 34,
   "id": "f6bdf8f4",
   "metadata": {},
   "outputs": [
    {
     "name": "stdout",
     "output_type": "stream",
     "text": [
      "The Merged Intervals are : [1, 9] "
     ]
    }
   ],
   "source": [
    "def mergeIntervals(arr):\n",
    "         \n",
    "        # Sorting based on the increasing order\n",
    "        # of the start intervals\n",
    "        arr.sort(key = lambda x: x[0])\n",
    "         \n",
    "        # array to hold the merged intervals\n",
    "        m = []\n",
    "        s = -10000\n",
    "        max = -100000\n",
    "        for i in range(len(arr)):\n",
    "            a = arr[i]\n",
    "            if a[0] > max:\n",
    "                if i != 0:\n",
    "                    m.append([s,max])\n",
    "                max = a[1]\n",
    "                s = a[0]\n",
    "            else:\n",
    "                if a[1] >= max:\n",
    "                    max = a[1]\n",
    "         \n",
    "        #'max' value gives the last point of\n",
    "        # that particular interval\n",
    "        # 's' gives the starting point of that interval\n",
    "        # 'm' array contains the list of all merged intervals\n",
    " \n",
    "        if max != -100000 and [s, max] not in m:\n",
    "            m.append([s, max])\n",
    "        print(\"The Merged Intervals are :\", end = \" \")\n",
    "        for i in range(len(m)):\n",
    "            print(m[i], end = \" \")\n",
    " \n",
    "# Driver code\n",
    "arr = [[6, 8], [1, 9], [2, 4], [4, 7]]\n",
    "mergeIntervals(arr)"
   ]
  },
  {
   "cell_type": "code",
   "execution_count": 35,
   "id": "4ea642fa",
   "metadata": {},
   "outputs": [
    {
     "name": "stdout",
     "output_type": "stream",
     "text": [
      "The Merged Intervals are : [1, 4] [5, 8] "
     ]
    }
   ],
   "source": [
    "arr = [[1,3], [2,4], [5,7], [6,8]]\n",
    "mergeIntervals(arr)"
   ]
  },
  {
   "cell_type": "markdown",
   "id": "d08d945a",
   "metadata": {},
   "source": [
    "# Find minimum number of merge operations to make an array palindrome"
   ]
  },
  {
   "cell_type": "code",
   "execution_count": 97,
   "id": "bb8aadb0",
   "metadata": {},
   "outputs": [],
   "source": [
    "def result(arr,start,end):\n",
    "    n = len(arr)\n",
    "    count = 0\n",
    "    while 0<=start<n and 0<=end<n:\n",
    "        if arr[start]!=arr[end]:\n",
    "            if n%2!=0:\n",
    "                count+=2\n",
    "            else:    \n",
    "                count+=1\n",
    "        start-=1\n",
    "        end+=1\n",
    "    if arr[start+1]!=arr[end-1]:\n",
    "        count=n-1\n",
    "        \n",
    "    return count    \n",
    "            \n",
    "def findMinMerge(arr):\n",
    "    n = len(arr)\n",
    "    if n%2==0:\n",
    "        res = result(arr,n//2-1,n//2)\n",
    "    else:\n",
    "        res = result(arr,n//2,n//2)\n",
    "    return res    \n",
    "        "
   ]
  },
  {
   "cell_type": "code",
   "execution_count": 98,
   "id": "cbd593e1",
   "metadata": {},
   "outputs": [
    {
     "data": {
      "text/plain": [
       "1"
      ]
     },
     "execution_count": 98,
     "metadata": {},
     "output_type": "execute_result"
    }
   ],
   "source": [
    "arr= [1,4,5,1]\n",
    "findMinMerge(arr)\n"
   ]
  },
  {
   "cell_type": "code",
   "execution_count": 99,
   "id": "60f20e32",
   "metadata": {},
   "outputs": [
    {
     "data": {
      "text/plain": [
       "3"
      ]
     },
     "execution_count": 99,
     "metadata": {},
     "output_type": "execute_result"
    }
   ],
   "source": [
    "arr= [11, 14, 15, 99]\n",
    "findMinMerge(arr)"
   ]
  },
  {
   "cell_type": "code",
   "execution_count": 102,
   "id": "e089505a",
   "metadata": {},
   "outputs": [
    {
     "data": {
      "text/plain": [
       "2"
      ]
     },
     "execution_count": 102,
     "metadata": {},
     "output_type": "execute_result"
    }
   ],
   "source": [
    "arr= [11,14,11,11,11,13,12,11]\n",
    "findMinMerge(arr)"
   ]
  },
  {
   "cell_type": "markdown",
   "id": "02a04c91",
   "metadata": {},
   "source": [
    "# OR"
   ]
  },
  {
   "cell_type": "code",
   "execution_count": 95,
   "id": "cee96df1",
   "metadata": {},
   "outputs": [
    {
     "name": "stdout",
     "output_type": "stream",
     "text": [
      "Count of minimum operations is 2\n"
     ]
    }
   ],
   "source": [
    "# Python program to find number of operations\n",
    "# to make an array palindrome\n",
    "\n",
    "# Returns minimum number of count operations\n",
    "# required to make arr[] palindrome\n",
    "def findMinOps(arr, n):\n",
    "\tans = 0 # Initialize result\n",
    "\n",
    "\t# Start from two corners\n",
    "\ti,j = 0,n-1\n",
    "\twhile i<=j:\n",
    "\t\t# If corner elements are same,\n",
    "\t\t# problem reduces arr[i+1..j-1]\n",
    "\t\tif arr[i] == arr[j]:\n",
    "\t\t\ti += 1\n",
    "\t\t\tj -= 1\n",
    "\n",
    "\t\t# If left element is greater, then\n",
    "\t\t# we merge right two elements\n",
    "\t\telif arr[i] > arr[j]:\n",
    "\t\t\t# need to merge from tail.\n",
    "\t\t\tj -= 1\n",
    "\t\t\tarr[j] += arr[j+1]\n",
    "\t\t\tans += 1\n",
    "\n",
    "\t\t# Else we merge left two elements\n",
    "\t\telse:\n",
    "\t\t\ti += 1\n",
    "\t\t\tarr[i] += arr[i-1]\n",
    "\t\t\tans += 1\n",
    "\n",
    "\treturn ans\n",
    "\n",
    "\n",
    "# Driver program to test above\n",
    "arr = [11,14,11,11,11,13,12,11]\n",
    "n = len(arr)\n",
    "print(\"Count of minimum operations is \" + str(findMinOps(arr, n)))\n",
    "\n",
    "# This code is contributed by Pratik Chhajer\n"
   ]
  },
  {
   "cell_type": "code",
   "execution_count": 1,
   "id": "e7ec15bf",
   "metadata": {},
   "outputs": [
    {
     "name": "stdout",
     "output_type": "stream",
     "text": [
      "a\n"
     ]
    }
   ],
   "source": [
    "print(\"a\")"
   ]
  },
  {
   "cell_type": "code",
   "execution_count": null,
   "id": "d06efd20",
   "metadata": {},
   "outputs": [],
   "source": []
  }
 ],
 "metadata": {
  "kernelspec": {
   "display_name": "Python 3",
   "language": "python",
   "name": "python3"
  },
  "language_info": {
   "codemirror_mode": {
    "name": "ipython",
    "version": 3
   },
   "file_extension": ".py",
   "mimetype": "text/x-python",
   "name": "python",
   "nbconvert_exporter": "python",
   "pygments_lexer": "ipython3",
   "version": "3.8.8"
  }
 },
 "nbformat": 4,
 "nbformat_minor": 5
}
