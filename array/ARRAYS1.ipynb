{
 "cells": [
  {
   "cell_type": "markdown",
   "id": "c85af31e",
   "metadata": {},
   "source": [
    "# Maximum and minimum element of an array"
   ]
  },
  {
   "cell_type": "code",
   "execution_count": 7,
   "id": "959d2c14",
   "metadata": {},
   "outputs": [],
   "source": [
    "def getMinMax(arr):\n",
    "    arr_len = len(arr)\n",
    "    #i = 2 because to reduce one element to compare\n",
    "    if arr_len % 2 == 0:\n",
    "        mx = max(arr[0],arr[1])\n",
    "        mn = min(arr[0],arr[1])\n",
    "        \n",
    "        i = 2\n",
    "        \n",
    "    else:\n",
    "        mx = mn = arr[0]\n",
    "        i=1\n",
    "        \n",
    "    while(i < arr_len-1):\n",
    "        if arr[i] > arr[i+1]:\n",
    "            mx = max(mx,arr[i])\n",
    "            mn = min(mn,arr[i+1])\n",
    "            \n",
    "        else:\n",
    "            mx = max(mx,arr[i+1])\n",
    "            mn = min(mn,arr[i])\n",
    "        #i+=2 because to reduce to complexity by 2 and we are keeping track of last two elements to compare    \n",
    "        i+=2    \n",
    "            \n",
    "    return (mx,mn)        \n",
    "        "
   ]
  },
  {
   "cell_type": "code",
   "execution_count": 8,
   "id": "96fac24b",
   "metadata": {},
   "outputs": [
    {
     "name": "stdout",
     "output_type": "stream",
     "text": [
      "Maximum ele of an array 3000\n",
      "Minimum ele of an array 1\n"
     ]
    }
   ],
   "source": [
    "arr = [1000, 11, 445, 1, 330, 3000]\n",
    "max_ele, min_ele = getMinMax(arr)\n",
    "print(\"Maximum ele of an array\",max_ele)\n",
    "print(\"Minimum ele of an array\",min_ele)"
   ]
  },
  {
   "cell_type": "markdown",
   "id": "33689a80",
   "metadata": {},
   "source": [
    "# REVERSING THE ARRAY"
   ]
  },
  {
   "cell_type": "code",
   "execution_count": 17,
   "id": "b23a1295",
   "metadata": {},
   "outputs": [],
   "source": [
    "def reverse_array(arr,start,end):\n",
    "    if start > end:\n",
    "        return arr\n",
    "    else:\n",
    "        arr[start],arr[end] = arr[end],arr[start]\n",
    "        start+=1\n",
    "        end-=1\n",
    "        return reverse_array(arr,start,end)\n",
    "    "
   ]
  },
  {
   "cell_type": "markdown",
   "id": "3de2ad1b",
   "metadata": {},
   "source": [
    "# OR"
   ]
  },
  {
   "cell_type": "code",
   "execution_count": null,
   "id": "f31e7bae",
   "metadata": {},
   "outputs": [],
   "source": [
    "def reverseList(A, start, end):\n",
    "    while start < end:\n",
    "        A[start], A[end] = A[end], A[start]\n",
    "        start += 1\n",
    "        end -= 1"
   ]
  },
  {
   "cell_type": "code",
   "execution_count": 18,
   "id": "006a1080",
   "metadata": {},
   "outputs": [
    {
     "data": {
      "text/plain": [
       "[3000, 330, 1, 445, 11, 1000]"
      ]
     },
     "execution_count": 18,
     "metadata": {},
     "output_type": "execute_result"
    }
   ],
   "source": [
    "arr = [1000, 11, 445, 1, 330, 3000]\n",
    "reversed_arr = reverse_array(arr,0,5)\n",
    "reversed_arr"
   ]
  },
  {
   "cell_type": "markdown",
   "id": "eaf5878a",
   "metadata": {},
   "source": [
    "#maximum subarray\n",
    "Input: nums = [-2,1,-3,4,-1,2,1,-5,4]\n",
    "Output: 6\n",
    "Explanation: [4,-1,2,1] has the largest sum = 6.\n"
   ]
  },
  {
   "cell_type": "code",
   "execution_count": 2,
   "id": "c24bebfc",
   "metadata": {},
   "outputs": [
    {
     "data": {
      "text/plain": [
       "6"
      ]
     },
     "execution_count": 2,
     "metadata": {},
     "output_type": "execute_result"
    }
   ],
   "source": [
    "def maxSubArray(nums):\n",
    "        cumsum = 0\n",
    "        max_sum = float('-inf')\n",
    "        \n",
    "        for i in range(len(nums)):\n",
    "            cumsum += nums[i]\n",
    "            max_sum = max(max_sum,cumsum)\n",
    "            if cumsum < 0:\n",
    "                cumsum = 0\n",
    "        \n",
    "        return max_sum\n",
    "    \n",
    "maxSubArray([-2,1,-3,4,-3 ,4,1,-5,4])    \n",
    "    \n",
    "        "
   ]
  },
  {
   "cell_type": "markdown",
   "id": "d18cfa02",
   "metadata": {},
   "source": [
    "# chocolate distribution problem"
   ]
  },
  {
   "cell_type": "code",
   "execution_count": 13,
   "id": "0623bbdc",
   "metadata": {},
   "outputs": [],
   "source": [
    "def findMinDiff(arr,n,m):\n",
    "    arr.sort()\n",
    "    print(arr)\n",
    "    mn = float('inf')\n",
    "    for i in range(len(arr)-m+1):\n",
    "        print(arr[i+m-1],arr[i])\n",
    "        mn = min(mn,arr[i+m-1]-arr[i])\n",
    "        \n",
    "        \n",
    "    return mn    "
   ]
  },
  {
   "cell_type": "code",
   "execution_count": 14,
   "id": "8a8cc46e",
   "metadata": {},
   "outputs": [
    {
     "name": "stdout",
     "output_type": "stream",
     "text": [
      "[1, 3, 4, 7, 9, 9, 12, 56]\n",
      "9 1\n",
      "9 3\n",
      "12 4\n",
      "56 7\n",
      "Minimum difference is 6\n"
     ]
    }
   ],
   "source": [
    "arr = [3, 4, 1, 9, 56, 7, 9, 12]\n",
    "m = 5 # Number of students\n",
    "n = len(arr)\n",
    "print(\"Minimum difference is\", findMinDiff(arr, n, m))"
   ]
  },
  {
   "cell_type": "code",
   "execution_count": 11,
   "id": "16d6ea9f",
   "metadata": {},
   "outputs": [
    {
     "name": "stdout",
     "output_type": "stream",
     "text": [
      "[2, 4, 7, 9, 12, 23, 25, 28, 30, 30, 40, 41, 42, 43, 44, 48, 50]\n",
      "25 2\n",
      "28 4\n",
      "30 7\n",
      "30 9\n",
      "40 12\n",
      "41 23\n",
      "42 25\n",
      "43 28\n",
      "44 30\n",
      "48 30\n",
      "50 40\n",
      "Minimum difference is 10\n"
     ]
    }
   ],
   "source": [
    "arr = [12, 4, 7, 9, 2, 23, 25, 41,\n",
    "          30, 40, 28, 42, 30, 44, 48,\n",
    "          43, 50]\n",
    "m = 7 # Number of students\n",
    "n = len(arr)\n",
    "print(\"Minimum difference is\", findMinDiff(arr, n, m))"
   ]
  },
  {
   "cell_type": "markdown",
   "id": "38daf8bc",
   "metadata": {},
   "source": [
    "# search an element in an sorted or rotated array"
   ]
  },
  {
   "cell_type": "code",
   "execution_count": 15,
   "id": "fc9d41f5",
   "metadata": {},
   "outputs": [],
   "source": [
    "def search(arr,start_index,end_index,key):\n",
    "    if start_index > end_index:\n",
    "        return -1\n",
    "    \n",
    "    mid = (start_index+end_index)//2\n",
    "    \n",
    "    if arr[mid]==key:\n",
    "        return mid\n",
    "    \n",
    "    if arr[start_index]<arr[mid]:\n",
    "        if key >= arr[start_index] and key<=arr[mid]:\n",
    "            return search(arr,start_index,mid-1,key)\n",
    "        else:\n",
    "            return search(arr,mid+1,end_index,key)\n",
    "        \n",
    "    if key>arr[mid] and key<=arr[end_index]:\n",
    "        return search(arr,mid+1,end_index,key)\n",
    "    else:\n",
    "        return search(arr,start_index,mid-1,key)\n",
    "    \n",
    "    \n",
    "    "
   ]
  },
  {
   "cell_type": "code",
   "execution_count": 17,
   "id": "835e383c",
   "metadata": {},
   "outputs": [
    {
     "name": "stdout",
     "output_type": "stream",
     "text": [
      "Index:  6\n"
     ]
    }
   ],
   "source": [
    "arr = [7, 8, 1, 2, 3, 4, 5,6]\n",
    "key = 5\n",
    "i = search(arr, 0, len(arr)-1, key)\n",
    "if i != -1:\n",
    "    print (\"Index: % d\"% i)\n",
    "else:\n",
    "    print (\"Key not found\")"
   ]
  },
  {
   "cell_type": "markdown",
   "id": "2feb74b8",
   "metadata": {},
   "source": [
    "# next permutations"
   ]
  },
  {
   "cell_type": "code",
   "execution_count": 20,
   "id": "1c814b4d",
   "metadata": {},
   "outputs": [],
   "source": [
    "class Solution:\n",
    "    def nextPermutation(self, nums):\n",
    "        \"\"\"\n",
    "        Do not return anything, modify nums in-place instead.\n",
    "        \"\"\"\n",
    "        def reverse_lst(lst,start,end):\n",
    "            if start>end:\n",
    "                return\n",
    "            if lst[start] > lst[end]:\n",
    "                lst[start],lst[end] = lst[end],lst[start]\n",
    "                start+=1\n",
    "                end-=1\n",
    "                reverse_lst(lst,start,end)\n",
    "            else:\n",
    "                reverse_lst(lst,start+1,end)\n",
    "            \n",
    "        def swap_ele(lst,a,b):\n",
    "            lst[a],lst[b]=lst[b],lst[a]    \n",
    "            \n",
    "            \n",
    "        def find_small(lst,f,a,b):\n",
    "            small = lst[a]\n",
    "            index = a\n",
    "            for i in range(a,b+1):\n",
    "                if lst[i] <= small and lst[i] > lst[f]:\n",
    "                    small = lst[i]\n",
    "                    index = i\n",
    "            print(index)        \n",
    "            return index\n",
    "        \n",
    "        def check_decending_order(lst,start,end):\n",
    "            count = 0\n",
    "            temp = end\n",
    "            while lst[end]<=lst[end-1]:\n",
    "                end-=1\n",
    "                count+=1\n",
    "            if count == temp:\n",
    "                return True\n",
    "            else:\n",
    "                return False\n",
    "        if len(nums)>2:\n",
    "            if check_decending_order(nums,0,len(nums)-1):\n",
    "                return reverse_lst(nums,0,len(nums)-1)\n",
    "        check = nums\n",
    "        length = len(nums)\n",
    "        temp = length-1\n",
    "        while temp > 0 and nums[temp-1] >= nums[temp]:\n",
    "            temp-=1\n",
    "        temp1 = temp-1\n",
    "        if temp1 == -1 :\n",
    "            reverse_lst(nums,0,length-1)\n",
    "        else:    \n",
    "            temp2 = 0\n",
    "            count = temp1\n",
    "            small_num_index = find_small(nums,temp1,count+1,length-1)\n",
    "            if nums[small_num_index] > nums[temp1]:\n",
    "                swap_ele(nums,temp1,small_num_index)\n",
    "            else:\n",
    "                while temp1<length-1:\n",
    "                    swap_ele(nums,temp1,temp1+1)\n",
    "                    temp1+=1\n",
    "            reverse_lst(nums,temp1+1,length-1)\n",
    "        return nums    \n"
   ]
  },
  {
   "cell_type": "code",
   "execution_count": 21,
   "id": "9b1133a9",
   "metadata": {},
   "outputs": [],
   "source": [
    "obj = Solution()\n"
   ]
  },
  {
   "cell_type": "code",
   "execution_count": 22,
   "id": "0d989568",
   "metadata": {},
   "outputs": [
    {
     "name": "stdout",
     "output_type": "stream",
     "text": [
      "6\n"
     ]
    },
    {
     "data": {
      "text/plain": [
       "[3, 4, 5, 1, 3, 7, 8, 9]"
      ]
     },
     "execution_count": 22,
     "metadata": {},
     "output_type": "execute_result"
    }
   ],
   "source": [
    "obj.nextPermutation([3,4,3,9,8,7,5,1])"
   ]
  },
  {
   "cell_type": "code",
   "execution_count": 11,
   "id": "faac4091",
   "metadata": {},
   "outputs": [],
   "source": [
    "gg = [1,2,3,8,7,6,5,4]\n",
    "gg[3:]=reversed(gg[3:])"
   ]
  },
  {
   "cell_type": "code",
   "execution_count": 12,
   "id": "4fc44464",
   "metadata": {},
   "outputs": [
    {
     "data": {
      "text/plain": [
       "[1, 2, 3, 4, 5, 6, 7, 8]"
      ]
     },
     "execution_count": 12,
     "metadata": {},
     "output_type": "execute_result"
    }
   ],
   "source": [
    "gg"
   ]
  },
  {
   "cell_type": "markdown",
   "id": "c3006d39",
   "metadata": {},
   "source": [
    "# or"
   ]
  },
  {
   "cell_type": "code",
   "execution_count": 24,
   "id": "30b43210",
   "metadata": {},
   "outputs": [
    {
     "name": "stdout",
     "output_type": "stream",
     "text": [
      "[3, 4, 7, 1, 2, 3, 8, 9]\n"
     ]
    }
   ],
   "source": [
    "#we need to actually find a position of the element before the descending order chandes\n",
    "#[0,1,2,10,9,4,3]\n",
    "#here 2< 10\n",
    "# 2>3\n",
    "# so swap 3 and 2\n",
    "# and reverse the array after 3, 3 takes the place of 2\n",
    "def Next_permutation(lst):\n",
    "    length = len(lst)\n",
    "    if length <=2:\n",
    "        return lst.reverse()\n",
    "    \n",
    "    pointer = length-2\n",
    "    while pointer >=0 and lst[pointer]>=lst[pointer+1]:\n",
    "        pointer-=1\n",
    "    if pointer==-1:\n",
    "        return lst.reverse()\n",
    "    \n",
    "    for i in range(length-1,pointer,-1):\n",
    "        if lst[pointer] < lst[i]:\n",
    "            lst[pointer],lst[i]=lst[i],lst[pointer]\n",
    "            break\n",
    "            \n",
    "    lst[pointer+1:] = reversed(lst[pointer+1:])\n",
    "    return lst\n",
    "    \n",
    "print(Next_permutation([3,4,3,9,8,7,2,1]))    \n"
   ]
  },
  {
   "cell_type": "code",
   "execution_count": 23,
   "id": "6f191dae",
   "metadata": {},
   "outputs": [
    {
     "data": {
      "text/plain": [
       "34513789"
      ]
     },
     "execution_count": 23,
     "metadata": {},
     "output_type": "execute_result"
    }
   ],
   "source": [
    "max(34398751,34513789)"
   ]
  },
  {
   "cell_type": "code",
   "execution_count": 26,
   "id": "e5a5e4e4",
   "metadata": {},
   "outputs": [
    {
     "data": {
      "text/plain": [
       "[6, 5, 4, 3, 2, 1, 8, 7]"
      ]
     },
     "execution_count": 26,
     "metadata": {},
     "output_type": "execute_result"
    }
   ],
   "source": [
    "arr[::-1]"
   ]
  },
  {
   "cell_type": "code",
   "execution_count": 4,
   "id": "e56188ca",
   "metadata": {},
   "outputs": [],
   "source": [
    "a = {\"a\":17,\"b\":77}"
   ]
  },
  {
   "cell_type": "code",
   "execution_count": 6,
   "id": "00d6b8ae",
   "metadata": {},
   "outputs": [
    {
     "name": "stdout",
     "output_type": "stream",
     "text": [
      "0 a\n",
      "1 b\n"
     ]
    }
   ],
   "source": [
    "for i,k in enumerate(a.keys()):\n",
    "    print(i,k)"
   ]
  },
  {
   "cell_type": "code",
   "execution_count": 17,
   "id": "ce7564b5",
   "metadata": {},
   "outputs": [],
   "source": []
  },
  {
   "cell_type": "code",
   "execution_count": 19,
   "id": "f2fc936c",
   "metadata": {},
   "outputs": [
    {
     "name": "stdout",
     "output_type": "stream",
     "text": [
      "{4: 1, 1: 1, 2: 1, 5: 2, 3: 1}\n"
     ]
    },
    {
     "data": {
      "text/plain": [
       "[5, 6]"
      ]
     },
     "execution_count": 19,
     "metadata": {},
     "output_type": "execute_result"
    }
   ],
   "source": [
    "repeatedNumber([4,1,2,5,3,5])"
   ]
  },
  {
   "cell_type": "code",
   "execution_count": 20,
   "id": "92f26db4",
   "metadata": {},
   "outputs": [
    {
     "data": {
      "text/plain": [
       "[0, 0, 0, 0]"
      ]
     },
     "execution_count": 20,
     "metadata": {},
     "output_type": "execute_result"
    }
   ],
   "source": [
    "[0]*4"
   ]
  },
  {
   "cell_type": "code",
   "execution_count": null,
   "id": "af6f6747",
   "metadata": {},
   "outputs": [],
   "source": []
  }
 ],
 "metadata": {
  "kernelspec": {
   "display_name": "Python 3",
   "language": "python",
   "name": "python3"
  },
  "language_info": {
   "codemirror_mode": {
    "name": "ipython",
    "version": 3
   },
   "file_extension": ".py",
   "mimetype": "text/x-python",
   "name": "python",
   "nbconvert_exporter": "python",
   "pygments_lexer": "ipython3",
   "version": "3.8.8"
  }
 },
 "nbformat": 4,
 "nbformat_minor": 5
}
